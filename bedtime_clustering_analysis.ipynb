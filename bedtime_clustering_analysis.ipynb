{
 "cells": [
  {
   "cell_type": "markdown",
   "id": "771e1c92",
   "metadata": {},
   "source": [
    "# 💤 Clustering My Bedtime Routines\n",
    "This notebook simulates bedtime data and applies clustering analysis with visualizations."
   ]
  },
  {
   "cell_type": "code",
   "execution_count": null,
   "id": "79170893",
   "metadata": {},
   "outputs": [],
   "source": [
    "import numpy as np\n",
    "import matplotlib.pyplot as plt\n",
    "from sklearn.cluster import KMeans\n",
    "import pandas as pd\n",
    "import seaborn as sns\n",
    "import plotly.express as px\n",
    "import matplotlib as mpl\n"
   ]
  },
  {
   "cell_type": "markdown",
   "id": "7df63968",
   "metadata": {},
   "source": [
    "## 📊 Step 1: Simulate Bedtime Data"
   ]
  },
  {
   "cell_type": "code",
   "execution_count": null,
   "id": "cf26e931",
   "metadata": {},
   "outputs": [],
   "source": [
    "np.random.seed(42)\n",
    "early = np.random.normal(loc=22.5, scale=0.5, size=7)  # Early sleepers\n",
    "late = np.random.normal(loc=1.5, scale=0.4, size=7)    # Late sleepers\n",
    "random = np.random.uniform(21, 3, size=6)              # Irregular (crosses midnight)\n",
    "bedtimes = np.concatenate([early, late, random]) % 24\n"
   ]
  },
  {
   "cell_type": "markdown",
   "id": "f97cac13",
   "metadata": {},
   "source": [
    "## 🤖 Step 2: Apply KMeans Clustering"
   ]
  },
  {
   "cell_type": "code",
   "execution_count": null,
   "id": "5c12d3d7",
   "metadata": {},
   "outputs": [],
   "source": [
    "X = bedtimes.reshape(-1, 1)\n",
    "kmeans = KMeans(n_clusters=3, random_state=0, n_init=10).fit(X)\n",
    "labels = kmeans.labels_\n",
    "\n",
    "df = pd.DataFrame({\n",
    "    \"Bedtime\": bedtimes,\n",
    "    \"Cluster\": labels\n",
    "})\n"
   ]
  },
  {
   "cell_type": "markdown",
   "id": "55ce3d29",
   "metadata": {},
   "source": [
    "## 📈 Step 3: Histogram of Bedtimes by Cluster"
   ]
  },
  {
   "cell_type": "code",
   "execution_count": null,
   "id": "287f5b87",
   "metadata": {},
   "outputs": [],
   "source": [
    "plt.figure(figsize=(8, 4))\n",
    "sns.histplot(data=df, x=\"Bedtime\", hue=\"Cluster\", palette=\"Set2\", bins=12, kde=True)\n",
    "plt.title(\"Histogram of Bedtimes by Cluster\")\n",
    "plt.xlabel(\"Bedtime (24h format)\")\n",
    "plt.ylabel(\"Frequency\")\n",
    "plt.tight_layout()\n",
    "plt.grid(True)\n",
    "plt.show()\n"
   ]
  },
  {
   "cell_type": "markdown",
   "id": "44669231",
   "metadata": {},
   "source": [
    "## 🌀 Step 4: Circular Plot (Polar Coordinates)"
   ]
  },
  {
   "cell_type": "code",
   "execution_count": null,
   "id": "ece2d7ea",
   "metadata": {},
   "outputs": [],
   "source": [
    "theta = (bedtimes / 24) * 2 * np.pi\n",
    "fig = plt.figure(figsize=(6, 6))\n",
    "ax = plt.subplot(111, polar=True)\n",
    "ax.scatter(theta, np.ones_like(theta), c=labels, cmap=\"Set2\", s=100)\n",
    "ax.set_title(\"Circular Visualization of Bedtime Clusters\", va='bottom')\n",
    "ax.set_yticklabels([])\n",
    "plt.show()\n"
   ]
  },
  {
   "cell_type": "markdown",
   "id": "b30f4759",
   "metadata": {},
   "source": [
    "## ✨ Step 5: Interactive Plot with Plotly"
   ]
  },
  {
   "cell_type": "code",
   "execution_count": null,
   "id": "8595f120",
   "metadata": {},
   "outputs": [],
   "source": [
    "df_sorted = df.sort_values(\"Bedtime\").reset_index(drop=True)\n",
    "df_sorted[\"Index\"] = df_sorted.index + 1\n",
    "fig_plotly = px.scatter(df_sorted, x=\"Index\", y=\"Bedtime\", color=df_sorted[\"Cluster\"].astype(str),\n",
    "                        title=\"Interactive View of Bedtime Clustering\",\n",
    "                        labels={\"Cluster\": \"Cluster\", \"Index\": \"Day\", \"Bedtime\": \"Bedtime (hour)\"})\n",
    "fig_plotly.update_traces(marker=dict(size=12))\n",
    "fig_plotly.update_layout(legend_title_text='Cluster')\n",
    "fig_plotly.show()\n"
   ]
  }
 ],
 "metadata": {},
 "nbformat": 4,
 "nbformat_minor": 5
}
